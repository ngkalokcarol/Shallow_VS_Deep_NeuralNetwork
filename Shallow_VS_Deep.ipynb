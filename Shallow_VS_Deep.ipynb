{
 "cells": [
  {
   "cell_type": "markdown",
   "id": "f85495de",
   "metadata": {},
   "source": [
    "## Shallow V.S Deep Neural Network\n",
    "\n",
    "a. Generate the simulated data first using following equation. Sample 120k data as X from\n",
    "uniform distribution [-2*Pi, 2*Pi], then feed the sampled X into the equation to get Y. Randomly\n",
    "select 60K as training and 60 K as testing.\n",
    "\n",
    "b. Train 3 versions of Neural Network, with different numbers of hidden layer (NN with 1 hidden\n",
    "layer, 2 hidden layers and 3 hidden layers), using Mean squared error as objective function and\n",
    "error measurement.\n",
    "\n",
    "c. For each version, try different number of neurals in your NN and replicate the following left\n",
    "plot (source: https://ojs.aaai.org/index.php/AAAI/article/view/10913). (You don’t need to\n",
    "replicate exactly same results below but need to show the performance difference of 3 versions\n",
    "of Neural Networks)"
   ]
  },
  {
   "cell_type": "markdown",
   "id": "d2e09d57",
   "metadata": {},
   "source": [
    "#### Loading Required Libraries"
   ]
  },
  {
   "cell_type": "code",
   "execution_count": 1,
   "id": "e6fb8643",
   "metadata": {},
   "outputs": [
    {
     "name": "stdout",
     "output_type": "stream",
     "text": [
      "Requirement already satisfied: pip in /Users/ngkalok/miniforge3/lib/python3.9/site-packages (22.0.4)\n",
      "Collecting pip\n",
      "  Downloading pip-22.3.1-py3-none-any.whl (2.1 MB)\n",
      "\u001b[2K     \u001b[90m━━━━━━━━━━━━━━━━━━━━━━━━━━━━━━━━━━━━━━━━\u001b[0m \u001b[32m2.1/2.1 MB\u001b[0m \u001b[31m8.7 MB/s\u001b[0m eta \u001b[36m0:00:00\u001b[0ma \u001b[36m0:00:01\u001b[0m\n",
      "\u001b[?25hInstalling collected packages: pip\n",
      "  Attempting uninstall: pip\n",
      "    Found existing installation: pip 22.0.4\n",
      "    Uninstalling pip-22.0.4:\n",
      "      Successfully uninstalled pip-22.0.4\n",
      "Successfully installed pip-22.3.1\n",
      "Note: you may need to restart the kernel to use updated packages.\n"
     ]
    }
   ],
   "source": [
    "pip install --upgrade pip"
   ]
  },
  {
   "cell_type": "code",
   "execution_count": 4,
   "id": "63d77f81",
   "metadata": {},
   "outputs": [],
   "source": [
    "import numpy as np #Data Manipulation and Linear Algebra\n",
    "import pandas as pd #Dataframe operations\n",
    "import math #Math Functions\n",
    "from tensorflow import keras #Deep Learning\n",
    "from keras.models import Sequential\n",
    "from statistics import mean\n",
    "from keras.layers import Dense\n",
    "from keras.wrappers.scikit_learn import KerasRegressor\n",
    "from sklearn.metrics import mean_squared_error\n",
    "import warnings\n",
    "import matplotlib.pyplot as plt # Plotting Graphs\n",
    "from sklearn.model_selection import cross_val_score, train_test_split # Cross Validation and Splitting Test/Tra\n",
    "from sklearn.model_selection import GridSearchCV # Parameter Tuning\n",
    "import warnings\n",
    "warnings.filterwarnings('ignore') # Ignore warnings"
   ]
  },
  {
   "cell_type": "markdown",
   "id": "73fe8271",
   "metadata": {},
   "source": [
    "#### Preparing the Data"
   ]
  },
  {
   "cell_type": "code",
   "execution_count": 5,
   "id": "d17428c6",
   "metadata": {},
   "outputs": [
    {
     "data": {
      "text/plain": [
       "array([-4.07533071,  5.98757824, -3.41017589, ..., -6.13387611,\n",
       "       -5.90697092, -4.83448624])"
      ]
     },
     "execution_count": 5,
     "metadata": {},
     "output_type": "execute_result"
    }
   ],
   "source": [
    "pi = math.pi\n",
    "data = np.random.uniform(-2*pi,2*pi,120000)\n",
    "data"
   ]
  },
  {
   "cell_type": "code",
   "execution_count": 6,
   "id": "f09d99e3",
   "metadata": {},
   "outputs": [
    {
     "data": {
      "text/html": [
       "<div>\n",
       "<style scoped>\n",
       "    .dataframe tbody tr th:only-of-type {\n",
       "        vertical-align: middle;\n",
       "    }\n",
       "\n",
       "    .dataframe tbody tr th {\n",
       "        vertical-align: top;\n",
       "    }\n",
       "\n",
       "    .dataframe thead th {\n",
       "        text-align: right;\n",
       "    }\n",
       "</style>\n",
       "<table border=\"1\" class=\"dataframe\">\n",
       "  <thead>\n",
       "    <tr style=\"text-align: right;\">\n",
       "      <th></th>\n",
       "      <th>X</th>\n",
       "    </tr>\n",
       "  </thead>\n",
       "  <tbody>\n",
       "    <tr>\n",
       "      <th>0</th>\n",
       "      <td>-4.075331</td>\n",
       "    </tr>\n",
       "    <tr>\n",
       "      <th>1</th>\n",
       "      <td>5.987578</td>\n",
       "    </tr>\n",
       "    <tr>\n",
       "      <th>2</th>\n",
       "      <td>-3.410176</td>\n",
       "    </tr>\n",
       "    <tr>\n",
       "      <th>3</th>\n",
       "      <td>-0.231024</td>\n",
       "    </tr>\n",
       "    <tr>\n",
       "      <th>4</th>\n",
       "      <td>-2.096992</td>\n",
       "    </tr>\n",
       "  </tbody>\n",
       "</table>\n",
       "</div>"
      ],
      "text/plain": [
       "          X\n",
       "0 -4.075331\n",
       "1  5.987578\n",
       "2 -3.410176\n",
       "3 -0.231024\n",
       "4 -2.096992"
      ]
     },
     "execution_count": 6,
     "metadata": {},
     "output_type": "execute_result"
    }
   ],
   "source": [
    "df = pd.DataFrame()\n",
    "df['X'] = data\n",
    "df.head()"
   ]
  },
  {
   "cell_type": "code",
   "execution_count": 7,
   "id": "31e40678",
   "metadata": {},
   "outputs": [
    {
     "data": {
      "text/html": [
       "<div>\n",
       "<style scoped>\n",
       "    .dataframe tbody tr th:only-of-type {\n",
       "        vertical-align: middle;\n",
       "    }\n",
       "\n",
       "    .dataframe tbody tr th {\n",
       "        vertical-align: top;\n",
       "    }\n",
       "\n",
       "    .dataframe thead th {\n",
       "        text-align: right;\n",
       "    }\n",
       "</style>\n",
       "<table border=\"1\" class=\"dataframe\">\n",
       "  <thead>\n",
       "    <tr style=\"text-align: right;\">\n",
       "      <th></th>\n",
       "      <th>X</th>\n",
       "      <th>y</th>\n",
       "    </tr>\n",
       "  </thead>\n",
       "  <tbody>\n",
       "    <tr>\n",
       "      <th>0</th>\n",
       "      <td>-4.075331</td>\n",
       "      <td>-0.829067</td>\n",
       "    </tr>\n",
       "    <tr>\n",
       "      <th>1</th>\n",
       "      <td>5.987578</td>\n",
       "      <td>0.378678</td>\n",
       "    </tr>\n",
       "    <tr>\n",
       "      <th>2</th>\n",
       "      <td>-3.410176</td>\n",
       "      <td>0.476319</td>\n",
       "    </tr>\n",
       "    <tr>\n",
       "      <th>3</th>\n",
       "      <td>-0.231024</td>\n",
       "      <td>0.602557</td>\n",
       "    </tr>\n",
       "    <tr>\n",
       "      <th>4</th>\n",
       "      <td>-2.096992</td>\n",
       "      <td>-0.508968</td>\n",
       "    </tr>\n",
       "  </tbody>\n",
       "</table>\n",
       "</div>"
      ],
      "text/plain": [
       "          X         y\n",
       "0 -4.075331 -0.829067\n",
       "1  5.987578  0.378678\n",
       "2 -3.410176  0.476319\n",
       "3 -0.231024  0.602557\n",
       "4 -2.096992 -0.508968"
      ]
     },
     "execution_count": 7,
     "metadata": {},
     "output_type": "execute_result"
    }
   ],
   "source": [
    "# Using the function to map data according to given equation\n",
    "\n",
    "df['y'] = df['X'].map(lambda x: ((((2*(math.cos(x)**2))-1))**2)*2)-1\n",
    "df.head()"
   ]
  },
  {
   "cell_type": "code",
   "execution_count": 10,
   "id": "862b6b01",
   "metadata": {},
   "outputs": [
    {
     "data": {
      "image/png": "[encoded data removed]",
      "text/plain": [
       "<Figure size 432x288 with 1 Axes>"
      ]
     },
     "metadata": {
      "needs_background": "light"
     },
     "output_type": "display_data"
    }
   ],
   "source": [
    "plt.scatter(X, y, color='blue')\n",
    "plt.show()"
   ]
  },
  {
   "cell_type": "markdown",
   "id": "8bbcb968",
   "metadata": {},
   "source": [
    "#### Preparing Test-Train Sets"
   ]
  },
  {
   "cell_type": "code",
   "execution_count": 8,
   "id": "2924ef1b",
   "metadata": {},
   "outputs": [],
   "source": [
    "X = df['X']\n",
    "y = df['y']"
   ]
  },
  {
   "cell_type": "code",
   "execution_count": 9,
   "id": "e47bf5fb",
   "metadata": {},
   "outputs": [],
   "source": [
    "X_train, X_test, y_train, y_test = train_test_split(X, y, test_size=0.5, random_state=42)"
   ]
  },
  {
   "cell_type": "markdown",
   "id": "65f026b1",
   "metadata": {},
   "source": [
    "#### Defining the Models"
   ]
  },
  {
   "cell_type": "code",
   "execution_count": 11,
   "id": "0571c2fd",
   "metadata": {},
   "outputs": [],
   "source": [
    "# List for using different number of neurons\n",
    "\n",
    "neurons = [20,40,60,80]"
   ]
  },
  {
   "cell_type": "code",
   "execution_count": 13,
   "id": "73d01707",
   "metadata": {},
   "outputs": [],
   "source": [
    "# Shallow Model\n",
    "\n",
    "def model_1(unit):\n",
    "    \n",
    "    model1 = Sequential()\n",
    "    model1.add(Dense(units=unit, activation ='relu', input_dim=1))\n",
    "    model1.add(Dense(units=1))\n",
    "    model1.compile(optimizer='adam', loss='mean_squared_error', metrics=['mse'])\n",
    "    return model1"
   ]
  },
  {
   "cell_type": "code",
   "execution_count": 14,
   "id": "ff225360",
   "metadata": {},
   "outputs": [],
   "source": [
    "# Medium Model\n",
    "\n",
    "def model_2(unit):\n",
    "    model2 = Sequential()\n",
    "    model2.add(Dense(units=unit/2, activation='relu', input_dim=1))\n",
    "    model2.add(Dense(units=unit/2, activation ='relu', input_dim=1))\n",
    "    model2.add(Dense(units=1))\n",
    "    model2.compile(optimizer='adam', loss='mean_squared_error', metrics=['mse'])\n",
    "    return model2"
   ]
  },
  {
   "cell_type": "code",
   "execution_count": 15,
   "id": "5acec8d3",
   "metadata": {},
   "outputs": [],
   "source": [
    "# Deep Model\n",
    "\n",
    "def model_3(unit):\n",
    "    model3 = Sequential()\n",
    "    model3.add(Dense(units=round(unit/3), activation='relu', input_dim=1))\n",
    "    model3.add(Dense(units=round(unit/3), activation ='relu', input_dim=1))\n",
    "    model3.add(Dense(units=round(unit/3) + 1, activation ='relu', input_dim=1))\n",
    "    model3.add(Dense(units=1))\n",
    "    model3.compile(optimizer='adam', loss='mean_squared_error', metrics=['mse'])\n",
    "    return model3"
   ]
  },
  {
   "cell_type": "code",
   "execution_count": 16,
   "id": "7090726e",
   "metadata": {},
   "outputs": [],
   "source": [
    "error_shallow = []\n",
    "error_medium = []\n",
    "error_deep = []\n",
    "units = []"
   ]
  },
  {
   "cell_type": "markdown",
   "id": "9b15340d",
   "metadata": {},
   "source": [
    "#### Running the models with different number of Neurons"
   ]
  },
  {
   "cell_type": "code",
   "execution_count": 17,
   "id": "736fd3ae",
   "metadata": {},
   "outputs": [
    {
     "name": "stdout",
     "output_type": "stream",
     "text": [
      "Metal device set to: Apple M1 Max\n"
     ]
    },
    {
     "name": "stderr",
     "output_type": "stream",
     "text": [
      "2022-11-22 09:29:08.381347: I tensorflow/core/common_runtime/pluggable_device/pluggable_device_factory.cc:305] Could not identify NUMA node of platform GPU ID 0, defaulting to 0. Your kernel may not have been built with NUMA support.\n",
      "2022-11-22 09:29:08.381695: I tensorflow/core/common_runtime/pluggable_device/pluggable_device_factory.cc:271] Created TensorFlow device (/job:localhost/replica:0/task:0/device:GPU:0 with 0 MB memory) -> physical PluggableDevice (device: 0, name: METAL, pci bus id: <undefined>)\n",
      "2022-11-22 09:29:08.876438: W tensorflow/core/platform/profile_utils/cpu_utils.cc:128] Failed to get CPU frequency: 0 Hz\n",
      "2022-11-22 09:29:09.104530: I tensorflow/core/grappler/optimizers/custom_graph_optimizer_registry.cc:113] Plugin optimizer for device_type GPU is enabled.\n",
      "2022-11-22 09:30:27.898730: I tensorflow/core/grappler/optimizers/custom_graph_optimizer_registry.cc:113] Plugin optimizer for device_type GPU is enabled.\n",
      "2022-11-22 09:32:08.758364: I tensorflow/core/grappler/optimizers/custom_graph_optimizer_registry.cc:113] Plugin optimizer for device_type GPU is enabled.\n",
      "2022-11-22 09:33:54.123961: I tensorflow/core/grappler/optimizers/custom_graph_optimizer_registry.cc:113] Plugin optimizer for device_type GPU is enabled.\n",
      "2022-11-22 09:33:56.675385: I tensorflow/core/grappler/optimizers/custom_graph_optimizer_registry.cc:113] Plugin optimizer for device_type GPU is enabled.\n",
      "2022-11-22 09:33:59.217219: I tensorflow/core/grappler/optimizers/custom_graph_optimizer_registry.cc:113] Plugin optimizer for device_type GPU is enabled.\n",
      "2022-11-22 09:34:02.115788: I tensorflow/core/grappler/optimizers/custom_graph_optimizer_registry.cc:113] Plugin optimizer for device_type GPU is enabled.\n",
      "2022-11-22 09:35:37.283511: I tensorflow/core/grappler/optimizers/custom_graph_optimizer_registry.cc:113] Plugin optimizer for device_type GPU is enabled.\n",
      "2022-11-22 09:37:25.792282: I tensorflow/core/grappler/optimizers/custom_graph_optimizer_registry.cc:113] Plugin optimizer for device_type GPU is enabled.\n",
      "2022-11-22 09:39:07.037275: I tensorflow/core/grappler/optimizers/custom_graph_optimizer_registry.cc:113] Plugin optimizer for device_type GPU is enabled.\n",
      "2022-11-22 09:39:09.264047: I tensorflow/core/grappler/optimizers/custom_graph_optimizer_registry.cc:113] Plugin optimizer for device_type GPU is enabled.\n",
      "2022-11-22 09:39:11.791663: I tensorflow/core/grappler/optimizers/custom_graph_optimizer_registry.cc:113] Plugin optimizer for device_type GPU is enabled.\n",
      "2022-11-22 09:39:14.784026: I tensorflow/core/grappler/optimizers/custom_graph_optimizer_registry.cc:113] Plugin optimizer for device_type GPU is enabled.\n",
      "2022-11-22 09:40:43.670603: I tensorflow/core/grappler/optimizers/custom_graph_optimizer_registry.cc:113] Plugin optimizer for device_type GPU is enabled.\n",
      "2022-11-22 09:42:28.413055: I tensorflow/core/grappler/optimizers/custom_graph_optimizer_registry.cc:113] Plugin optimizer for device_type GPU is enabled.\n",
      "2022-11-22 09:44:11.949728: I tensorflow/core/grappler/optimizers/custom_graph_optimizer_registry.cc:113] Plugin optimizer for device_type GPU is enabled.\n",
      "2022-11-22 09:44:14.429720: I tensorflow/core/grappler/optimizers/custom_graph_optimizer_registry.cc:113] Plugin optimizer for device_type GPU is enabled.\n",
      "2022-11-22 09:44:17.144093: I tensorflow/core/grappler/optimizers/custom_graph_optimizer_registry.cc:113] Plugin optimizer for device_type GPU is enabled.\n",
      "2022-11-22 09:44:19.966119: I tensorflow/core/grappler/optimizers/custom_graph_optimizer_registry.cc:113] Plugin optimizer for device_type GPU is enabled.\n",
      "2022-11-22 09:45:49.000415: I tensorflow/core/grappler/optimizers/custom_graph_optimizer_registry.cc:113] Plugin optimizer for device_type GPU is enabled.\n",
      "2022-11-22 09:47:48.767377: I tensorflow/core/grappler/optimizers/custom_graph_optimizer_registry.cc:113] Plugin optimizer for device_type GPU is enabled.\n",
      "2022-11-22 09:49:29.683024: I tensorflow/core/grappler/optimizers/custom_graph_optimizer_registry.cc:113] Plugin optimizer for device_type GPU is enabled.\n",
      "2022-11-22 09:49:31.858118: I tensorflow/core/grappler/optimizers/custom_graph_optimizer_registry.cc:113] Plugin optimizer for device_type GPU is enabled.\n",
      "2022-11-22 09:49:34.284340: I tensorflow/core/grappler/optimizers/custom_graph_optimizer_registry.cc:113] Plugin optimizer for device_type GPU is enabled.\n"
     ]
    }
   ],
   "source": [
    "for neuron in neurons:\n",
    "    \n",
    "    model_shallow = model_1(neuron)\n",
    "    model_medium = model_2(neuron)\n",
    "    model_deep = model_3(neuron)\n",
    "    \n",
    "    #Running with verbose = 0 for a concise output for submitting\n",
    "    result1 = model_shallow.fit(X_train,y_train, epochs=50, batch_size=100, verbose=0)\n",
    "    result2 = model_medium.fit(X_train,y_train, epochs=50, batch_size=100, verbose=0)\n",
    "    result3 = model_deep.fit(X_train,y_train, epochs=50, batch_size=100, verbose=0)\n",
    "    \n",
    "    y_pred_shallow = model_shallow.predict(X_test)\n",
    "    y_pred_medium = model_medium.predict(X_test)\n",
    "    y_pred_deep = model_deep.predict(X_test)\n",
    "    \n",
    "    mse_shallow = mean_squared_error(y_test, y_pred_shallow)\n",
    "    mse_medium = mean_squared_error(y_test, y_pred_medium)\n",
    "    mse_deep = mean_squared_error(y_test, y_pred_deep)\n",
    "    \n",
    "    error_shallow.append(mse_shallow)\n",
    "    error_medium.append(mse_medium)\n",
    "    error_deep.append(mse_deep)\n",
    "    \n",
    "    units.append(neuron)"
   ]
  },
  {
   "cell_type": "markdown",
   "id": "7db85615",
   "metadata": {},
   "source": [
    "#### Comparing the different models (Shallow V.S. Deep)\n",
    "\n",
    "Below is the graph replicated for the models performance with MSE"
   ]
  },
  {
   "cell_type": "code",
   "execution_count": 18,
   "id": "baab05dd",
   "metadata": {},
   "outputs": [
    {
     "data": {
      "image/png": "[encoded data removed]",
      "text/plain": [
       "<Figure size 432x288 with 1 Axes>"
      ]
     },
     "metadata": {
      "needs_background": "light"
     },
     "output_type": "display_data"
    }
   ],
   "source": [
    "plt.plot(units,error_shallow,label='1 Layer')\n",
    "plt.plot(units,error_medium,label='2 Layers')\n",
    "plt.plot(units,error_deep,label='3 Layers')\n",
    "plt.legend(loc='upper right')\n",
    "plt.ylabel('MSE')\n",
    "plt.xlabel('Units')\n",
    "plt.show()"
   ]
  },
  {
   "cell_type": "code",
   "execution_count": null,
   "id": "84160a91",
   "metadata": {},
   "outputs": [],
   "source": []
  }
 ],
 "metadata": {
  "kernelspec": {
   "display_name": "Python [conda env:root]",
   "language": "python",
   "name": "conda-root-py"
  },
  "language_info": {
   "codemirror_mode": {
    "name": "ipython",
    "version": 3
   },
   "file_extension": ".py",
   "mimetype": "text/x-python",
   "name": "python",
   "nbconvert_exporter": "python",
   "pygments_lexer": "ipython3",
   "version": "3.9.10"
  }
 },
 "nbformat": 4,
 "nbformat_minor": 5
}
